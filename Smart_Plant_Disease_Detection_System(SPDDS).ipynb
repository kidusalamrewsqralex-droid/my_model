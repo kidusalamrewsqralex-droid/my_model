{
  "nbformat": 4,
  "nbformat_minor": 0,
  "metadata": {
    "colab": {
      "provenance": [],
      "authorship_tag": "ABX9TyO0umdkKn42Pp//ACdzL5E/",
      "include_colab_link": true
    },
    "kernelspec": {
      "name": "python3",
      "display_name": "Python 3"
    },
    "language_info": {
      "name": "python"
    }
  },
  "cells": [
    {
      "cell_type": "markdown",
      "metadata": {
        "id": "view-in-github",
        "colab_type": "text"
      },
      "source": [
        "<a href=\"https://colab.research.google.com/github/kidusalamrewsqralex-droid/my_model/blob/main/Smart_Plant_Disease_Detection_System(SPDDS).ipynb\" target=\"_parent\"><img src=\"https://colab.research.google.com/assets/colab-badge.svg\" alt=\"Open In Colab\"/></a>"
      ]
    },
    {
      "cell_type": "code",
      "execution_count": null,
      "metadata": {
        "id": "tdUrpAfySCY5"
      },
      "outputs": [],
      "source": [
        "!pip install -q tensorflow tensorflow-datasets"
      ]
    },
    {
      "cell_type": "code",
      "source": [
        "!pip install tensorflow.keras"
      ],
      "metadata": {
        "id": "igcqBTJXVAX7"
      },
      "execution_count": null,
      "outputs": []
    },
    {
      "cell_type": "code",
      "source": [
        "import tensorflow as tf\n",
        "import tensorflow_datasets as tfds\n",
        "import numpy as np\n",
        "import matplotlib.pyplot as plt"
      ],
      "metadata": {
        "id": "B0JWvWFlSYi9"
      },
      "execution_count": null,
      "outputs": []
    },
    {
      "cell_type": "code",
      "source": [
        "dataset,info=tfds.load('plant_village',with_info=True,as_supervised=True)\n",
        "teain_ds_full=dataset['train']\n",
        "print('Number of classes: ',info.features['label'].num_classes)\n",
        "print('Class names: ',info.features['label'].names)"
      ],
      "metadata": {
        "id": "xiGyg_R1Sbez"
      },
      "execution_count": null,
      "outputs": []
    },
    {
      "cell_type": "code",
      "source": [
        "IMG_SIZE = (128, 128)\n",
        "BATCH_SIZE = 32\n",
        "\n",
        "def preprocess(image, label):\n",
        "    image = tf.image.resize(image, IMG_SIZE)\n",
        "    image = image / 255.0\n",
        "    return image, label\n",
        "\n",
        "train_ds_full = dataset['train'].map(preprocess, num_parallel_calls=tf.data.AUTOTUNE)\n",
        "\n",
        "total_examples = info.splits[\"train\"].num_examples\n",
        "train_size = int(0.8 * total_examples)\n",
        "val_size = total_examples - train_size\n",
        "\n",
        "train_ds = train_ds_full.take(train_size).shuffle(1000).batch(BATCH_SIZE).prefetch(tf.data.AUTOTUNE)\n",
        "val_ds = train_ds_full.skip(train_size).take(val_size).batch(BATCH_SIZE).prefetch(tf.data.AUTOTUNE)"
      ],
      "metadata": {
        "id": "p_-4tYVVSuqm"
      },
      "execution_count": null,
      "outputs": []
    },
    {
      "cell_type": "code",
      "source": [
        "from tensorflow.keras.models import Sequential\n",
        "from tensorflow.keras.layers import Conv2D, MaxPooling2D, Flatten, Dense\n",
        "\n",
        "model = Sequential([\n",
        "    Conv2D(32, (3,3), activation='relu', input_shape=(128, 128, 3)),\n",
        "    MaxPooling2D(2,2),\n",
        "\n",
        "    Conv2D(64, (3,3), activation='relu'),\n",
        "    MaxPooling2D(2,2),\n",
        "\n",
        "    Flatten(),\n",
        "    Dense(128, activation='relu'),\n",
        "\n",
        "    Dense(38, activation='softmax')\n",
        "])"
      ],
      "metadata": {
        "id": "aWniTT70Uw90"
      },
      "execution_count": null,
      "outputs": []
    },
    {
      "cell_type": "code",
      "source": [
        "model.compile(\n",
        "    optimizer='adam',\n",
        "    loss='sparse_categorical_crossentropy',\n",
        "    metrics=['accuracy']\n",
        ")"
      ],
      "metadata": {
        "id": "ZG2yokGcVKVs"
      },
      "execution_count": null,
      "outputs": []
    },
    {
      "cell_type": "code",
      "source": [
        "from tensorflow.keras.callbacks import EarlyStopping\n",
        "\n",
        "early_stop = EarlyStopping(\n",
        "    monitor='val_loss',\n",
        "    patience=3,\n",
        "    restore_best_weights=True\n",
        ")\n",
        "\n",
        "history = model.fit(\n",
        "    train_ds,\n",
        "    validation_data=val_ds,\n",
        "    epochs=20,\n",
        "    callbacks=[early_stop]\n",
        ")"
      ],
      "metadata": {
        "id": "K1vCXzI5V9NP"
      },
      "execution_count": null,
      "outputs": []
    },
    {
      "cell_type": "code",
      "source": [
        "model.save(\"SPDDS.keras\")"
      ],
      "metadata": {
        "id": "09GRvLWNLjiB"
      },
      "execution_count": null,
      "outputs": []
    },
    {
      "cell_type": "code",
      "source": [
        "from google.colab import drive\n",
        "drive.mount('/content/drive')"
      ],
      "metadata": {
        "id": "O0PbdOQMya5-"
      },
      "execution_count": null,
      "outputs": []
    },
    {
      "cell_type": "code",
      "source": [
        "model.save('/content/drive/MyDrive/my_model.keras')"
      ],
      "metadata": {
        "id": "4xLS8dglzXjr"
      },
      "execution_count": null,
      "outputs": []
    },
    {
      "cell_type": "code",
      "source": [
        "import tensorflow as tf\n",
        "from tensorflow.keras.preprocessing import image\n",
        "from tensorflow.keras.models import load_model\n",
        "import numpy as np\n",
        "model = load_model('/content/drive/MyDrive/my_model.keras')\n",
        "img = image.load_img('thumb.jpg', target_size=(128, 128),color_mode='rgb')\n",
        "img_array = image.img_to_array(img)\n",
        "img_array = img_array / 255.0\n",
        "img_array = np.expand_dims(img_array, axis=0)\n",
        "prediction = model.predict(img_array)\n",
        "predicted_class=np.argmax(prediction,axis=1)[0]\n",
        "class_names=info.features['label'].names\n",
        "print('prediction: ',class_names[predicted_class])\n",
        "print(\"Prediction probabilities:\", prediction)"
      ],
      "metadata": {
        "id": "laSxGTaWOf5b"
      },
      "execution_count": null,
      "outputs": []
    },
    {
      "cell_type": "code",
      "source": [],
      "metadata": {
        "id": "AMvECknNNF2S"
      },
      "execution_count": null,
      "outputs": []
    }
  ]
}